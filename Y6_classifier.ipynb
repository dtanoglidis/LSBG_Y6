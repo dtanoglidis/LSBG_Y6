{
 "cells": [
  {
   "cell_type": "markdown",
   "id": "liked-alexander",
   "metadata": {},
   "source": [
    "# A classifier for DES Y6 objects\n",
    "\n",
    "In this notebook I train and test different classifers that can effectively separate LSBGs from artifacts in the DES Y6 data."
   ]
  },
  {
   "cell_type": "code",
   "execution_count": 75,
   "id": "statistical-tuning",
   "metadata": {},
   "outputs": [],
   "source": [
    "# Import basic packages\n",
    "import numpy as np\n",
    "import scipy as sp\n",
    "import pandas as pd\n",
    "from astropy.io import fits\n",
    "\n",
    "\n",
    "# ==== Scikit-learn =======================\n",
    "# Preprocessing\n",
    "from sklearn.preprocessing import StandardScaler #Standar scaler for standardization\n",
    "from sklearn.model_selection import train_test_split # For random split\n",
    "\n",
    "# Classifiers\n",
    "from sklearn.svm import SVC\n",
    "\n",
    "# Metrics\n",
    "from sklearn.metrics import accuracy_score\n",
    "from sklearn.metrics import precision_score\n",
    "from sklearn.metrics import recall_score\n",
    "\n",
    "# ==========================================\n",
    "# Matplotlib, urlib etc \n",
    "import urllib\n",
    "import urllib.request\n",
    "import matplotlib\n",
    "import matplotlib.pyplot as plt\n",
    "from IPython.display import clear_output, display\n",
    "from PIL import Image\n",
    "%matplotlib inline\n",
    "# =========================================\n",
    "# =========================================\n",
    "# Adjust rc parameters to make plots pretty\n",
    "def plot_pretty(dpi=200, fontsize=9):\n",
    "    \n",
    "    import matplotlib.pyplot as plt\n",
    "\n",
    "    plt.rc(\"savefig\", dpi=dpi)       # dpi resolution of saved image files\n",
    "    # if you have LaTeX installed on your laptop, uncomment the line below for prettier labels\n",
    "    #plt.rc('text', usetex=True)      # use LaTeX to process labels\n",
    "    plt.rc('font', size=fontsize)    # fontsize\n",
    "    plt.rc('xtick', direction='in')  # make axes ticks point inward\n",
    "    plt.rc('ytick', direction='in')\n",
    "    plt.rc('xtick.major', pad=10) \n",
    "    plt.rc('xtick.minor', pad=5)\n",
    "    plt.rc('ytick.major', pad=10) \n",
    "    plt.rc('ytick.minor', pad=5)\n",
    "    plt.rc('lines', dotted_pattern = [0.5, 1.1]) # fix dotted lines\n",
    "\n",
    "    return\n",
    "plot_pretty()"
   ]
  },
  {
   "cell_type": "markdown",
   "id": "municipal-miller",
   "metadata": {},
   "source": [
    "**Helper functions**\n",
    "\n",
    "Write a function that creates and plots 100 cutouts of objects , given their coordinates"
   ]
  },
  {
   "cell_type": "code",
   "execution_count": 33,
   "id": "incredible-evans",
   "metadata": {},
   "outputs": [],
   "source": [
    "def cutout_plot(ra_arr,dec_arr,numb,save=True):\n",
    "    \"\"\"\n",
    "    This function gets the coordinates (ra,dec) of \n",
    "    a number of objects and outputs a figure with 100 cutouts\n",
    "    \n",
    "    Inputs:\n",
    "    ra_arr - 1D array of RAs\n",
    "    dec_arr - 1D array of DECs\n",
    "    numb - where to start from creating the cutouts\n",
    "    if 0, gives you the first 100 objects; if 100 gives you the next 100 etc\n",
    "    save - whether to save the image or not, defualt = True\n",
    "    \"\"\"\n",
    "    # Initialize array\n",
    "    Array = np.zeros([100,64,64,3])\n",
    "    \n",
    "    zoom=15\n",
    "    \n",
    "    # Populate array\n",
    "    for i in range(100):\n",
    "        j = i + numb\n",
    "        # Give a name to the figure. Name them as \"Image_cand_(i).jpb\n",
    "        # Where i is the number of the candidate\n",
    "        # This is easy to change to ra, dec or coadd ID or whatever...\n",
    "        fig_name = \"Image_cand.jpg\"\n",
    "    \n",
    "        #Create now the name of the URL\n",
    "        # This need to have as inputs (that change) the RA, DEC of each objec and zoom\n",
    "        RA_loc = ra_arr[j] #The RA of the i-th object\n",
    "        DEC_loc = dec_arr[j] # The DEC of the i-th object\n",
    "    \n",
    "        url_name = \"http://legacysurvey.org//viewer/jpeg-cutout?ra={0}&dec={1}&zoom={2}&layer=des-dr1\".format(RA_loc,DEC_loc,zoom)\n",
    "        #url_name = \"https://www.legacysurvey.org//viewer/jpeg-cutout?ra={0}&dec={1}&layer=hsc2&zoom={2}\".format(RA_loc,DEC_loc,zoom)\n",
    "        urllib.request.urlretrieve(url_name, fig_name) #Retrieves and saves each image\n",
    "    \n",
    "        image = Image.open('Image_cand.jpg')\n",
    "        # resize image\n",
    "        new_image = image.resize((64, 64))\n",
    "        # Convert the image to an RGB array\n",
    "        im_array = np.asarray(new_image)\n",
    "    \n",
    "        Array[i] = im_array\n",
    "    \n",
    "        clear_output(wait=True)\n",
    "        print('runs:',i)\n",
    "    \n",
    "    # ==========================================\n",
    "    # Plot the cutouts generated in an array\n",
    "    n_rows = 20\n",
    "    n_cols = 5\n",
    "    \n",
    "    plt.figure(figsize=(4*n_cols*0.7, 4*n_rows*0.7))\n",
    "\n",
    "    for i in range(n_rows*n_cols):\n",
    "        #if (i==3):\n",
    "        #    plt.title(\"Matched objects\",fontsize=25)\n",
    "        plt.subplot(n_rows, n_cols, i+1)\n",
    "        plt.imshow(Array[i]/255.)\n",
    "        plt.axis('off')\n",
    "    \n",
    "    if (save==True):\n",
    "        plt.savefig(\"Examples.pdf\")"
   ]
  },
  {
   "cell_type": "markdown",
   "id": "hazardous-placement",
   "metadata": {},
   "source": [
    "### Y6 Catalog around Fornax (or other area)\n",
    "\n",
    "Here, we first import the full DES Y6 skim catalog, then we write a function that selects a region around a given coordinate (e.g. 1 degree around the center of Fornax) and create a feature matrix that can be subsequently used to perform classification."
   ]
  },
  {
   "cell_type": "code",
   "execution_count": 49,
   "id": "comparable-travel",
   "metadata": {},
   "outputs": [],
   "source": [
    "DES_Y6 = fits.open('y6_gold_2_0_lsb_skim.fits')"
   ]
  },
  {
   "cell_type": "code",
   "execution_count": 68,
   "id": "political-irrigation",
   "metadata": {},
   "outputs": [],
   "source": [
    "# Import full catalog with all the properties\n",
    "data = DES_Y6[1].data[:]\n",
    "\n",
    "# Import RA and DEC coordinates\n",
    "ra = data['RA']\n",
    "dec = data['DEC']"
   ]
  },
  {
   "cell_type": "code",
   "execution_count": 72,
   "id": "modular-senate",
   "metadata": {},
   "outputs": [],
   "source": [
    "def feat_mat_around(ra_c,dec_c,degs=1.):\n",
    "    \"\"\"\n",
    "    Function that returns arrays of coordinates \n",
    "    and a feature matrix to be used for classification,\n",
    "    around given coordinates.\n",
    "    -------------------------\n",
    "    Input:\n",
    "    ra_c - central coordinate/RA\n",
    "    dec_c - central coordinate/DEC\n",
    "    degs - how many degrees around the center to keep/default=1\n",
    "    -------------------------\n",
    "    Output:\n",
    "    ras_in - coordinates of objects that pass the criteria/RA\n",
    "    decs_in - coordinates of objects that pass the criteria/DECs\n",
    "    X_feat - feature matrix (unnormalized) of the objects that pass the criteria\n",
    "    \"\"\"\n",
    "    \n",
    "    # Define box of coordinates\n",
    "    box = (ra>(ra_c-degs))&(ra<(ra_c+degs))&(dec>(dec_c-degs))&(dec<(dec_c+degs))\n",
    "    \n",
    "    # Keep only coordinates & features within the above coordinate box\n",
    "    ras_in = ra[box]\n",
    "    decs_in = dec[box]\n",
    "    data_in = data[box]\n",
    "    \n",
    "    \n",
    "    # Get different properties\n",
    "    A_IMAGE_in = data_in['A_IMAGE']\n",
    "    B_IMAGE_in = data_in['B_IMAGE']\n",
    "    MAG_AUTO_G_in = data_in['MAG_AUTO_G']\n",
    "    FLUX_RADIUS_G_in = 0.263*data_in['FLUX_RADIUS_G']\n",
    "    MU_EFF_MODEL_G_in = data_in['MU_EFF_MODEL_G']\n",
    "    MU_MAX_G_in = data_in['MU_MAX_G']\n",
    "    MU_MAX_MODEL_G_in = data_in['MU_MAX_MODEL_G']\n",
    "    MU_MEAN_MODEL_G_in = data_in['MU_MEAN_MODEL_G']\n",
    "    MAG_AUTO_R_in = data_in['MAG_AUTO_R']\n",
    "    FLUX_RADIUS_R_in = 0.263*data_in['FLUX_RADIUS_R']\n",
    "    MU_EFF_MODEL_R_in = data_in['MU_EFF_MODEL_R']\n",
    "    MU_MAX_R_in = data_in['MU_MAX_R']\n",
    "    MU_MAX_MODEL_R_in = data_in['MU_MAX_MODEL_R']\n",
    "    MU_MEAN_MODEL_R_in = data_in['MU_MEAN_MODEL_R']\n",
    "    MAG_AUTO_I_in = data_in['MAG_AUTO_I']\n",
    "    FLUX_RADIUS_I_in = 0.263*data_in['FLUX_RADIUS_I']\n",
    "    MU_EFF_MODEL_I_in = data_in['MU_EFF_MODEL_I']\n",
    "    MU_MAX_I_in = data_in['MU_MAX_I']\n",
    "    MU_MAX_MODEL_I_in = data_in['MU_MAX_MODEL_I']\n",
    "    MU_MEAN_MODEL_I_in = data_in['MU_MEAN_MODEL_I']\n",
    "    \n",
    "    # =========== Create extra features ============\n",
    "    # Ellipticity\n",
    "    Ell_in = 1. - B_IMAGE_in/A_IMAGE_in\n",
    "    \n",
    "    # Colors\n",
    "    col_g_r_in = MAG_AUTO_G_in - MAG_AUTO_R_in\n",
    "    col_g_i_in = MAG_AUTO_G_in - MAG_AUTO_I_in\n",
    "    col_r_i_in = MAG_AUTO_R_in - MAG_AUTO_I_in\n",
    "\n",
    "    # ==============================================\n",
    "    # ==============================================\n",
    "    # ========= Create the feature matrix ==========\n",
    "    \n",
    "    # Length of matrix\n",
    "    len_n = len(ras_in)\n",
    "    \n",
    "    # Initialize\n",
    "    X_mat_in = np.zeros([len_n,24])\n",
    "    \n",
    "    # Populate\n",
    "    X_mat_in[:,0] = Ell_in\n",
    "    X_mat_in[:,1] = col_g_r_in;X_mat_in[:,2] = col_g_i_in;X_mat_in[:,3] = col_r_i_in\n",
    "    X_mat_in[:,4] = A_IMAGE_in;X_mat_in[:,5] = B_IMAGE_in\n",
    "    # G-band\n",
    "    X_mat_in[:,6] = MAG_AUTO_G_in\n",
    "    X_mat_in[:,7] = FLUX_RADIUS_G_in\n",
    "    X_mat_in[:,8] = MU_MAX_G_in\n",
    "    X_mat_in[:,9] = MU_MAX_MODEL_G_in\n",
    "    X_mat_in[:,10] = MU_EFF_MODEL_G_in\n",
    "    X_mat_in[:,11] = MU_MEAN_MODEL_G_in\n",
    "    # R-band\n",
    "    X_mat_in[:,12] = MAG_AUTO_R_in\n",
    "    X_mat_in[:,13] = FLUX_RADIUS_R_in\n",
    "    X_mat_in[:,14] = MU_MAX_R_in\n",
    "    X_mat_in[:,15] = MU_MAX_MODEL_R_in\n",
    "    X_mat_in[:,16] = MU_EFF_MODEL_R_in\n",
    "    X_mat_in[:,17] = MU_MEAN_MODEL_R_in\n",
    "    # I-band\n",
    "    X_mat_in[:,18] = MAG_AUTO_I_in\n",
    "    X_mat_in[:,19] = FLUX_RADIUS_I_in\n",
    "    X_mat_in[:,20] = MU_MAX_I_in\n",
    "    X_mat_in[:,21] = MU_MAX_MODEL_I_in\n",
    "    X_mat_in[:,22] = MU_EFF_MODEL_I_in\n",
    "    X_mat_in[:,23] = MU_MEAN_MODEL_I_in\n",
    "    \n",
    "    # ============================================\n",
    "    # ============================================\n",
    "    # Return coordinates and matrix\n",
    "    return ras_in, decs_in, X_mat_in"
   ]
  },
  {
   "cell_type": "markdown",
   "id": "automatic-browse",
   "metadata": {},
   "source": [
    "Get coordinates and feature matrix in region of $\\pm 1^o$ from the center of the Fornax cluster, that has coordinates:\n",
    "\n",
    "\\begin{equation}\n",
    "RA = 54.6162,\\,\\, DEC = -35.4483\n",
    "\\end{equation}"
   ]
  },
  {
   "cell_type": "code",
   "execution_count": 74,
   "id": "upper-burst",
   "metadata": {},
   "outputs": [
    {
     "name": "stdout",
     "output_type": "stream",
     "text": [
      "2039\n"
     ]
    }
   ],
   "source": [
    "# Coordinates of the center of Fornax\n",
    "RA_f = 54.6162\n",
    "DEC_f = -35.4483\n",
    "\n",
    "# Get things\n",
    "ras_fornax, decs_fornax, X_mat_fornax = feat_mat_around(RA_f,DEC_f,degs=1.)\n",
    "\n",
    "print(len(ras_fornax))"
   ]
  },
  {
   "cell_type": "markdown",
   "id": "quiet-proof",
   "metadata": {},
   "source": [
    "## Part I: Train on Y3, check on Y6\n",
    "\n",
    "In this part we train the classifier on objects from the Y3 catalog, with the Y3 parameters (without cross-matching the two catalogs)\n",
    "\n",
    "We check two different types of artifacts; randomly selected and those visually rejected (harder to classify)"
   ]
  },
  {
   "cell_type": "code",
   "execution_count": 6,
   "id": "supposed-custody",
   "metadata": {},
   "outputs": [],
   "source": [
    "# Load catalogs as dataframes\n",
    "LSBG_Y3_df = pd.read_csv('random_LSBGs_all.csv') # LSBGs\n",
    "Artifacts_1_df = pd.read_csv('random_negative_all_1.csv') #\"Easy artifacts\n",
    "Artifacts_2_df = pd.read_csv('random_negative_all_2.csv') #\"Hard\" artifacts"
   ]
  },
  {
   "cell_type": "code",
   "execution_count": 9,
   "id": "inside-universal",
   "metadata": {},
   "outputs": [
    {
     "name": "stdout",
     "output_type": "stream",
     "text": [
      "(20000, 24)\n"
     ]
    }
   ],
   "source": [
    "print(np.shape(LSBG_Y3))"
   ]
  },
  {
   "cell_type": "markdown",
   "id": "korean-roulette",
   "metadata": {},
   "source": [
    "Get matrices with numberical values of the features"
   ]
  },
  {
   "cell_type": "code",
   "execution_count": 24,
   "id": "designing-andorra",
   "metadata": {},
   "outputs": [
    {
     "name": "stdout",
     "output_type": "stream",
     "text": [
      "(20000, 20)\n"
     ]
    }
   ],
   "source": [
    "Mat_LSBG = LSBG_Y3_df.iloc[:,4:].values\n",
    "Mat_Art_1 = Artifacts_1_df.iloc[:,4:].values\n",
    "Mat_Art_2 = Artifacts_2_df.iloc[:,4:].values\n",
    "print(np.shape(Mat_LSBG))"
   ]
  },
  {
   "cell_type": "markdown",
   "id": "classified-engagement",
   "metadata": {},
   "source": [
    "Get the **coordinates** of the objects - we will need that for visual inspection"
   ]
  },
  {
   "cell_type": "code",
   "execution_count": 30,
   "id": "foreign-rwanda",
   "metadata": {},
   "outputs": [],
   "source": [
    "# LSBGs\n",
    "ra_LSBG = LSBG_Y3_df['ra'].values\n",
    "dec_LSBG = LSBG_Y3_df['dec'].values\n",
    "\n",
    "# Artifacts 1\n",
    "ra_Art_1 = Artifacts_1_df['ra'].values\n",
    "dec_Art_1 = Artifacts_1_df['dec'].values\n",
    "\n",
    "# Artifacts 2 \n",
    "ra_Art_2 = Artifacts_2_df['ra'].values\n",
    "dec_Art_2 = Artifacts_2_df['dec'].values"
   ]
  },
  {
   "cell_type": "markdown",
   "id": "following-catalyst",
   "metadata": {},
   "source": [
    "**Feature Engineering**\n",
    "\n",
    "Perform Feature engineering.\n",
    "\n",
    "Define ellipticity and colors (at first)\n",
    "Then we can add extra features, or check if some of them are reduntant"
   ]
  },
  {
   "cell_type": "code",
   "execution_count": 35,
   "id": "accessible-senior",
   "metadata": {},
   "outputs": [],
   "source": [
    "# ==================== For LSBGs ============================\n",
    "# Ellipticity\n",
    "Ell_LSBG = 1 - LSBG_Y3_df['B_IMAGE'].values/LSBG_Y3_df['A_IMAGE'].values\n",
    "\n",
    "# Colors \n",
    "col_g_r_LSBG = LSBG_Y3_df['mag_auto_g'].values - LSBG_Y3_df['mag_auto_r'].values\n",
    "col_g_i_LSBG = LSBG_Y3_df['mag_auto_g'].values - LSBG_Y3_df['mag_auto_i'].values\n",
    "col_r_i_LSBG = LSBG_Y3_df['mag_auto_r'].values - LSBG_Y3_df['mag_auto_i'].values\n",
    "\n",
    "# ==================== For Artifacts of type 1 ==============\n",
    "# Ellipticity\n",
    "Ell_Art_1 = 1 - Artifacts_1_df['B_IMAGE'].values/Artifacts_1_df['A_IMAGE'].values\n",
    "\n",
    "# Colors\n",
    "col_g_r_Art_1 = Artifacts_1_df['mag_auto_g'].values - Artifacts_1_df['mag_auto_r'].values\n",
    "col_g_i_Art_1 = Artifacts_1_df['mag_auto_g'].values - Artifacts_1_df['mag_auto_i'].values\n",
    "col_r_i_Art_1 = Artifacts_1_df['mag_auto_r'].values - Artifacts_1_df['mag_auto_i'].values\n",
    "\n",
    "# ==================== For Artifacts of type 2 ==============\n",
    "# Ellipticity\n",
    "Ell_Art_2 = 1 - Artifacts_2_df['B_IMAGE'].values/Artifacts_2_df['A_IMAGE'].values\n",
    "\n",
    "# Colors\n",
    "col_g_r_Art_2 = Artifacts_2_df['mag_auto_g'].values - Artifacts_2_df['mag_auto_r'].values\n",
    "col_g_i_Art_2 = Artifacts_2_df['mag_auto_g'].values - Artifacts_2_df['mag_auto_i'].values\n",
    "col_r_i_Art_2 = Artifacts_2_df['mag_auto_r'].values - Artifacts_2_df['mag_auto_i'].values"
   ]
  },
  {
   "cell_type": "markdown",
   "id": "seven-weekly",
   "metadata": {},
   "source": [
    "Integrate the new engineered features to the feature matrices of LSBGs and artifacts"
   ]
  },
  {
   "cell_type": "code",
   "execution_count": 48,
   "id": "engaged-asian",
   "metadata": {},
   "outputs": [
    {
     "name": "stdout",
     "output_type": "stream",
     "text": [
      "(20000, 24)\n"
     ]
    }
   ],
   "source": [
    "# LSBGs \n",
    "X_LSBG = np.column_stack((Ell_LSBG,col_g_r_LSBG,col_g_i_LSBG,col_r_i_LSBG,Mat_LSBG))\n",
    "# Artifacts 1\n",
    "X_Art_1 = np.column_stack((Ell_Art_1,col_g_r_Art_1,col_g_i_Art_1,col_r_i_Art_1,Mat_Art_1))\n",
    "# Artifacts 2\n",
    "X_Art_2 = np.column_stack((Ell_Art_2,col_g_r_Art_2,col_g_i_Art_2,col_r_i_Art_2,Mat_Art_2))\n",
    "\n",
    "# ============================\n",
    "# Let's print shape to check that everything is ok!\n",
    "print(np.shape(X_LSBG))"
   ]
  },
  {
   "cell_type": "markdown",
   "id": "golden-picture",
   "metadata": {},
   "source": [
    "### Part Ia) Combination of LSBGs and Artifacts of type 2 \n",
    "\n",
    "In this part, for training, we combine the Y3 LSBGs with the Artifacts of type 2 (\"hard\" artifacts)"
   ]
  },
  {
   "cell_type": "code",
   "execution_count": 80,
   "id": "occupational-heath",
   "metadata": {},
   "outputs": [
    {
     "name": "stdout",
     "output_type": "stream",
     "text": [
      "(40000, 24)\n"
     ]
    }
   ],
   "source": [
    "X_feat = np.concatenate((X_LSBG,X_Art_2))\n",
    "\n",
    "y_ones = np.ones(20000);y_zeros = np.zeros(20000)\n",
    "y_lab = np.concatenate((y_ones,y_zeros))\n",
    "\n",
    "print(np.shape(X_feat))"
   ]
  },
  {
   "cell_type": "code",
   "execution_count": 81,
   "id": "cellular-malaysia",
   "metadata": {},
   "outputs": [],
   "source": [
    "scaler = StandardScaler()\n",
    "X_scaled = scaler.fit_transform(X_feat)"
   ]
  },
  {
   "cell_type": "code",
   "execution_count": 82,
   "id": "institutional-perception",
   "metadata": {},
   "outputs": [
    {
     "ename": "NameError",
     "evalue": "name 'y_test' is not defined",
     "output_type": "error",
     "traceback": [
      "\u001b[0;31m---------------------------------------------------------------------------\u001b[0m",
      "\u001b[0;31mNameError\u001b[0m                                 Traceback (most recent call last)",
      "\u001b[0;32m<ipython-input-82-e6b8978a46d2>\u001b[0m in \u001b[0;36m<module>\u001b[0;34m\u001b[0m\n\u001b[1;32m      5\u001b[0m \u001b[0;31m# Predict\u001b[0m\u001b[0;34m\u001b[0m\u001b[0;34m\u001b[0m\u001b[0;34m\u001b[0m\u001b[0m\n\u001b[1;32m      6\u001b[0m \u001b[0my_pred_svc\u001b[0m \u001b[0;34m=\u001b[0m \u001b[0msvc_1\u001b[0m\u001b[0;34m.\u001b[0m\u001b[0mpredict\u001b[0m\u001b[0;34m(\u001b[0m\u001b[0mX_scaled\u001b[0m\u001b[0;34m)\u001b[0m\u001b[0;34m\u001b[0m\u001b[0;34m\u001b[0m\u001b[0m\n\u001b[0;32m----> 7\u001b[0;31m \u001b[0mprint\u001b[0m\u001b[0;34m(\u001b[0m\u001b[0maccuracy_score\u001b[0m\u001b[0;34m(\u001b[0m\u001b[0my_test\u001b[0m\u001b[0;34m,\u001b[0m\u001b[0my_pred_svc\u001b[0m\u001b[0;34m)\u001b[0m\u001b[0;34m)\u001b[0m\u001b[0;34m\u001b[0m\u001b[0;34m\u001b[0m\u001b[0m\n\u001b[0m",
      "\u001b[0;31mNameError\u001b[0m: name 'y_test' is not defined"
     ]
    }
   ],
   "source": [
    "# Train\n",
    "svc_1 = SVC(C=1e4, kernel='rbf', gamma=0.012)\n",
    "svc_1.fit(X_scaled, y_lab)\n",
    "\n",
    "# Predict\n",
    "y_pred_svc = svc_1.predict(X_scaled)\n",
    "print(accuracy_score(y_test,y_pred_svc))"
   ]
  },
  {
   "cell_type": "code",
   "execution_count": 83,
   "id": "indonesian-apartment",
   "metadata": {},
   "outputs": [
    {
     "name": "stdout",
     "output_type": "stream",
     "text": [
      "0.865725\n"
     ]
    }
   ],
   "source": [
    "y_pred_svc = svc_1.predict(X_scaled)\n",
    "print(accuracy_score(y_lab,y_pred_svc))"
   ]
  },
  {
   "cell_type": "markdown",
   "id": "paperback-overhead",
   "metadata": {},
   "source": [
    "**Predict on Fornax and plot examples**"
   ]
  },
  {
   "cell_type": "code",
   "execution_count": 98,
   "id": "ideal-opera",
   "metadata": {},
   "outputs": [
    {
     "name": "stdout",
     "output_type": "stream",
     "text": [
      "1794\n"
     ]
    }
   ],
   "source": [
    "RA_f = 55.0475\n",
    "DEC_f = -18.5875\n",
    "ras_fornax, decs_fornax, X_mat_fornax = feat_mat_around(RA_f,DEC_f,degs=1.)\n",
    "\n",
    "print(len(ras_fornax))\n",
    "\n",
    "X_fornax_scaled = scaler.fit_transform(X_mat_fornax)\n",
    "y_pred_fornax = svc_1.predict(X_fornax_scaled)"
   ]
  },
  {
   "cell_type": "code",
   "execution_count": 99,
   "id": "finished-carter",
   "metadata": {},
   "outputs": [
    {
     "name": "stdout",
     "output_type": "stream",
     "text": [
      "137\n"
     ]
    }
   ],
   "source": [
    "print(len(y_pred_fornax[y_pred_fornax==1]))"
   ]
  },
  {
   "cell_type": "code",
   "execution_count": 100,
   "id": "respected-present",
   "metadata": {},
   "outputs": [],
   "source": [
    "# Get LSBG coords"
   ]
  },
  {
   "cell_type": "code",
   "execution_count": null,
   "id": "atlantic-transsexual",
   "metadata": {},
   "outputs": [
    {
     "name": "stdout",
     "output_type": "stream",
     "text": [
      "runs: 23\n"
     ]
    }
   ],
   "source": [
    "ra_pos = ras_fornax[y_pred_fornax==1]\n",
    "dec_pos = decs_fornax[y_pred_fornax==1]\n",
    "\n",
    "# Get plot\n",
    "cutout_plot(ra_pos,dec_pos,0,save=True)"
   ]
  },
  {
   "cell_type": "code",
   "execution_count": null,
   "id": "based-secondary",
   "metadata": {},
   "outputs": [],
   "source": []
  },
  {
   "cell_type": "code",
   "execution_count": null,
   "id": "rational-deadline",
   "metadata": {},
   "outputs": [],
   "source": []
  },
  {
   "cell_type": "code",
   "execution_count": null,
   "id": "polish-welding",
   "metadata": {},
   "outputs": [],
   "source": []
  }
 ],
 "metadata": {
  "kernelspec": {
   "display_name": "Python 3",
   "language": "python",
   "name": "python3"
  },
  "language_info": {
   "codemirror_mode": {
    "name": "ipython",
    "version": 3
   },
   "file_extension": ".py",
   "mimetype": "text/x-python",
   "name": "python",
   "nbconvert_exporter": "python",
   "pygments_lexer": "ipython3",
   "version": "3.9.1"
  }
 },
 "nbformat": 4,
 "nbformat_minor": 5
}
